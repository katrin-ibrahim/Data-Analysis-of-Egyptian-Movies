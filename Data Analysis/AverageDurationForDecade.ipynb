{
 "cells": [
  {
   "cell_type": "code",
   "execution_count": 85,
   "metadata": {},
   "outputs": [],
   "source": [
    "import pandas as pd\n",
    "import csv\n",
    "import numpy as np\n",
    "import matplotlib.pyplot as plt"
   ]
  },
  {
   "cell_type": "code",
   "execution_count": 86,
   "metadata": {},
   "outputs": [],
   "source": [
    "df=pd.read_csv(r'test.csv')"
   ]
  },
  {
   "cell_type": "markdown",
   "metadata": {},
   "source": [
    "**This method to get the average movie duration(minutes) through each deacade**"
   ]
  },
  {
   "cell_type": "code",
   "execution_count": 87,
   "metadata": {},
   "outputs": [],
   "source": [
    "def average_Duration_for_Decade(df):\n",
    "    movies_40s=[]\n",
    "    movies_50s=[]\n",
    "    movies_60s=[]\n",
    "    movies_70s=[]\n",
    "    duration=list(df.get(\"مدة الفيلم (دقيقة)\"))\n",
    "    date=list(df.get(\"تاريخ العرض\"))\n",
    "    for i in range(len(df)):\n",
    "        if duration[i]!='-':\n",
    "                if date[i]>=1940 and date[i]<1950:\n",
    "                    movies_40s.append(duration[i])\n",
    "                elif date[i]>=1950 and date[i]<1960:\n",
    "                    movies_50s.append(duration[i])\n",
    "                elif date[i]>=1960 and date[i]<1970:\n",
    "                    movies_60s.append(duration[i])\n",
    "                elif date[i]>=1970 and date[i]<1980:\n",
    "                    movies_70s.append(duration[i])\n",
    "    \n",
    "    movies_40s=list(map(int, movies_40s))\n",
    "    movies_50s=list(map(int, movies_50s))\n",
    "    movies_60s=list(map(int, movies_60s))\n",
    "    movies_70s=list(map(int, movies_70s))\n",
    "\n",
    "    average_duration =[]\n",
    "    average_duration.append(int((sum(movies_40s)/len(movies_40s))))\n",
    "    average_duration.append(int((sum(movies_50s)/len(movies_50s))))\n",
    "    average_duration.append(int((sum(movies_60s)/len(movies_60s))))\n",
    "    average_duration.append(int((sum(movies_70s)/len(movies_70s))))\n",
    "    \n",
    "    all_decades =[]\n",
    "    all_decades.append('1940s')\n",
    "    all_decades.append('1950s')\n",
    "    all_decades.append('1960s')\n",
    "    all_decades.append('1970s')\n",
    "    all_decades\n",
    "    \n",
    "    s = pd.Series(\n",
    "        average_duration,\n",
    "        index = all_decades\n",
    "    )\n",
    "    \n",
    "    plt.title(\"Average Movie Duration for each Decade\")\n",
    "    plt.xlabel('Decades')\n",
    "    plt.ylabel('Duration in minutes')\n",
    "    \n",
    "    #Set tick colors:\n",
    "    ax = plt.gca()\n",
    "    ax.tick_params(axis='x', colors='blue')\n",
    "    ax.tick_params(axis='y', colors='red')\n",
    "\n",
    "    s.plot( \n",
    "        kind='bar', \n",
    "        color=list('rgyc'),\n",
    "    )\n",
    "    \n",
    "    addlabels(all_decades, average_duration)\n",
    "    plt.show()\n",
    "\n"
   ]
  },
  {
   "cell_type": "code",
   "execution_count": 88,
   "metadata": {},
   "outputs": [
    {
     "data": {
      "image/png": "[encoded data removed]",
      "text/plain": [
       "<Figure size 432x288 with 1 Axes>"
      ]
     },
     "metadata": {
      "needs_background": "light"
     },
     "output_type": "display_data"
    }
   ],
   "source": [
    "average_Duration_for_Decade(df)"
   ]
  },
  {
   "cell_type": "code",
   "execution_count": null,
   "metadata": {},
   "outputs": [],
   "source": []
  }
 ],
 "metadata": {
  "kernelspec": {
   "display_name": "Python 3",
   "language": "python",
   "name": "python3"
  },
  "language_info": {
   "codemirror_mode": {
    "name": "ipython",
    "version": 3
   },
   "file_extension": ".py",
   "mimetype": "text/x-python",
   "name": "python",
   "nbconvert_exporter": "python",
   "pygments_lexer": "ipython3",
   "version": "3.8.3"
  }
 },
 "nbformat": 4,
 "nbformat_minor": 4
}
