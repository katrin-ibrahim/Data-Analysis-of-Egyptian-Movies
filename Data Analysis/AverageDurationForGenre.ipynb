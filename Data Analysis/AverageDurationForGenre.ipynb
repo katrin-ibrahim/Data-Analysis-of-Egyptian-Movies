{
 "cells": [
  {
   "cell_type": "code",
   "execution_count": 30,
   "metadata": {},
   "outputs": [],
   "source": [
    "import pandas as pd\n",
    "import csv\n",
    "import numpy as np\n",
    "import matplotlib.pyplot as plt\n",
    "import arabic_reshaper as arabic_reshaper\n",
    "from bidi.algorithm import get_display\n"
   ]
  },
  {
   "cell_type": "code",
   "execution_count": 2,
   "metadata": {},
   "outputs": [],
   "source": [
    "df=pd.read_csv(r'test.csv')"
   ]
  },
  {
   "cell_type": "markdown",
   "metadata": {},
   "source": [
    "**This method to get the average movie duration(minutes) through each Genre**"
   ]
  },
  {
   "cell_type": "code",
   "execution_count": 24,
   "metadata": {},
   "outputs": [],
   "source": [
    "def addlabels(x,y):\n",
    "    for i in range(len(x)):\n",
    "        plt.text(i, y[i], y[i], ha = 'center')"
   ]
  },
  {
   "cell_type": "code",
   "execution_count": 72,
   "metadata": {},
   "outputs": [],
   "source": [
    "def average_Duration_for_Genre(df):\n",
    "\n",
    "    Drama =[]\n",
    "    Romance =[]\n",
    "    Comedy =[]\n",
    "    Historic =[]\n",
    "    Biography =[]\n",
    "    Crime =[]\n",
    "    War =[]\n",
    "    Short =[]\n",
    "    Documentry =[]\n",
    "    Fiction =[]\n",
    "    Sports =[]\n",
    "    Horror =[]\n",
    "    Songs=[]\n",
    "    \n",
    "    duration=list(df.get(\"مدة الفيلم (دقيقة)\"))\n",
    "    category=list(df.get(\"تصنيف الفيلم\"))\n",
    "    \n",
    "    for i in range(len(category)):\n",
    "        if duration[i]!='-':\n",
    "            if(category[i]=='دراما' or category[i]=='غموض' or category[i]=='ﺗﺸﻮﻳﻖ ﻭﺇﺛﺎﺭﺓ' or category[i]=='حركة'or category[i]=='مغامرات' or category[i]=='جريمة' ):\n",
    "                Drama.append(duration[i])\n",
    "            elif(category[i]=='كوميدي' or category[i]=='عائلي' ):\n",
    "                Comedy.append(duration[i])\n",
    "            elif(category[i]=='رومانسي'):\n",
    "                Romance.append(duration[i])\n",
    "            elif(category[i]=='استعراضي'):\n",
    "                Songs.append(duration[i])\n",
    "            elif(category[i]=='تاريخي'):\n",
    "                Historic.append(duration[i])\n",
    "            elif(category[i]=='سيرة ذاتية'):\n",
    "                Biography.append(duration[i])\n",
    "            elif(category[i]=='حرب'):\n",
    "                War.append(duration[i])\n",
    "            elif(category[i]=='وثائقي'):\n",
    "                Documentry.append(duration[i])\n",
    "            elif(category[i]=='قصير'):\n",
    "                Short.append(duration[i])\n",
    "            elif(category[i]=='خيال' or category[i]=='خيال علمي' ):\n",
    "                Fiction.append(duration[i])\n",
    "            elif(category[i]=='رياضي'):\n",
    "                Sports.append(duration[i])\n",
    "            elif(category[i]=='رعب'):\n",
    "                Horror.append(duration[i])\n",
    "\n",
    "    \n",
    "    Drama=list(map(int, Drama))\n",
    "    Comedy=list(map(int, Comedy))\n",
    "    Romance=list(map(int, Romance))\n",
    "    Songs=list(map(int, Songs))\n",
    "    Historic=list(map(int, Historic))\n",
    "    Biography=list(map(int, Biography))\n",
    "    War=list(map(int, War))\n",
    "    Short=list(map(int, Short))\n",
    "    Documentry=list(map(int, Documentry))\n",
    "    Fiction=list(map(int, Fiction))\n",
    "    Sports=list(map(int, Sports))\n",
    "    Horror=list(map(int, Horror))\n",
    "\n",
    "\n",
    "    Average_Duration=[]\n",
    "    Average_Duration.append(int(sum(Drama)/len(Drama)))\n",
    "    Average_Duration.append(int(sum(Comedy)/len(Comedy)))\n",
    "    Average_Duration.append(int(sum(Romance)/len(Romance)))\n",
    "    Average_Duration.append(int(sum(Songs)/len(Songs)))\n",
    "    Average_Duration.append(int(sum(Historic)/len(Historic)))\n",
    "    Average_Duration.append(int(sum(Biography)/len(Biography)))\n",
    "    Average_Duration.append(int(sum(War)/len(War)))\n",
    "    Average_Duration.append(int(sum(Short)/len(Short)))\n",
    "    Average_Duration.append(int(sum(Documentry)/len(Documentry)))\n",
    "    Average_Duration.append(int(sum(Fiction)/len(Fiction)))\n",
    "    Average_Duration.append(int(sum(Sports)/len(Sports)))\n",
    "    Average_Duration.append(int(sum(Horror)/len(Horror)))\n",
    "    \n",
    "    all_genres=[]\n",
    "    all_genres.append(get_display(arabic_reshaper.reshape(u'دراما')))\n",
    "    all_genres.append(get_display(arabic_reshaper.reshape(u'كوميدي')))\n",
    "    all_genres.append(get_display(arabic_reshaper.reshape(u'رومانسي')))\n",
    "    all_genres.append(get_display(arabic_reshaper.reshape(u'استعراضي')))\n",
    "    all_genres.append(get_display(arabic_reshaper.reshape(u'تاريخي')))\n",
    "    all_genres.append(get_display(arabic_reshaper.reshape(u'سيرة ذاتية')))\n",
    "    all_genres.append(get_display(arabic_reshaper.reshape(u'حرب')))\n",
    "    all_genres.append(get_display(arabic_reshaper.reshape(u'قصير')))\n",
    "    all_genres.append(get_display(arabic_reshaper.reshape(u'وثائقي')))\n",
    "    all_genres.append(get_display(arabic_reshaper.reshape(u'خيال')))\n",
    "    all_genres.append(get_display(arabic_reshaper.reshape(u'رياضي')))\n",
    "    all_genres.append(get_display(arabic_reshaper.reshape(u'رعب')))\n",
    "   \n",
    "    s = pd.Series(\n",
    "         Average_Duration,\n",
    "        index = all_genres\n",
    "    )\n",
    "    plt.figure(figsize=(16,5))\n",
    "    \n",
    "    addlabels(all_genres, Average_Duration)\n",
    "    \n",
    "    plt.title(\"Average Duration for each Genre\")\n",
    "    plt.xlabel('Genres')\n",
    "    plt.ylabel('Average Duration')\n",
    "    \n",
    "    #plt.xticks(rotation=90)\n",
    "    \n",
    "    #Set tick colors:\n",
    "    ax = plt.gca()\n",
    "    ax.tick_params(axis='x', colors='red')\n",
    "    ax.tick_params(axis='y', colors='red')\n",
    "    \n",
    "    s.plot( \n",
    "        kind='bar', \n",
    "        color=list('c'),\n",
    "        fontsize=15\n",
    "    )\n",
    "    \n",
    "    plt.show()\n",
    "\n",
    "    "
   ]
  },
  {
   "cell_type": "code",
   "execution_count": 73,
   "metadata": {},
   "outputs": [
    {
     "data": {
      "image/png": "[encoded data removed]",
      "text/plain": [
       "<Figure size 1152x360 with 1 Axes>"
      ]
     },
     "metadata": {
      "needs_background": "light"
     },
     "output_type": "display_data"
    }
   ],
   "source": [
    "average_Duration_for_Genre(df)"
   ]
  },
  {
   "cell_type": "code",
   "execution_count": null,
   "metadata": {},
   "outputs": [],
   "source": []
  }
 ],
 "metadata": {
  "kernelspec": {
   "display_name": "Python 3",
   "language": "python",
   "name": "python3"
  },
  "language_info": {
   "codemirror_mode": {
    "name": "ipython",
    "version": 3
   },
   "file_extension": ".py",
   "mimetype": "text/x-python",
   "name": "python",
   "nbconvert_exporter": "python",
   "pygments_lexer": "ipython3",
   "version": "3.8.3"
  }
 },
 "nbformat": 4,
 "nbformat_minor": 4
}
